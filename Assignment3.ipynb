{
  "nbformat": 4,
  "nbformat_minor": 0,
  "metadata": {
    "colab": {
      "provenance": [],
      "collapsed_sections": []
    },
    "kernelspec": {
      "name": "python3",
      "display_name": "Python 3"
    },
    "language_info": {
      "name": "python"
    }
  },
  "cells": [
    {
      "cell_type": "markdown",
      "source": [
        "Section A"
      ],
      "metadata": {
        "id": "kOFLbWPi33Hw"
      }
    },
    {
      "cell_type": "code",
      "source": [
        "#Create a function that returns True if a given inequality expression is correct and False otherwise.\n",
        "def check(s):\n",
        "    abc=eval(s)\n",
        "    if abc:\n",
        "        return True\n",
        "    else:\n",
        "      return False\n",
        "\n",
        "\n",
        "print(check(\"3 < 5 < 10\"))"
      ],
      "metadata": {
        "colab": {
          "base_uri": "https://localhost:8080/"
        },
        "id": "sI0A4l2Gq7pe",
        "outputId": "1ebe9411-bd9d-4322-9fed-2f690de5e3fb"
      },
      "execution_count": 1,
      "outputs": [
        {
          "output_type": "stream",
          "name": "stdout",
          "text": [
            "True\n"
          ]
        }
      ]
    },
    {
      "cell_type": "code",
      "execution_count": 2,
      "metadata": {
        "colab": {
          "base_uri": "https://localhost:8080/"
        },
        "id": "GWWZebDynvoy",
        "outputId": "9541798d-c724-4318-f42a-80cd417c8b91"
      },
      "outputs": [
        {
          "output_type": "stream",
          "name": "stdout",
          "text": [
            "Enter value of A =23\n",
            "Enter value of B =7\n",
            "Enter value of C =18\n",
            "0\n"
          ]
        }
      ],
      "source": [
        "#Create a function that takes three arguments a, b, c and returns the sum of the numbers that are evenly divided by c from the range a, b inclusive.\n",
        "def sumDivisibles(A, B, C):\n",
        "    sum = 0\n",
        "\n",
        "    for i in range(A, B + 1):\n",
        " \n",
        "        if (i % C == 0):\n",
        "            sum += i\n",
        " \n",
        "    return sum\n",
        "\n",
        "     \n",
        "A = int(input(\"Enter value of A =\"))\n",
        "B = int(input(\"Enter value of B =\"))\n",
        "C = int(input(\"Enter value of C =\"))\n",
        " \n",
        "print(sumDivisibles(A, B, C))"
      ]
    },
    {
      "cell_type": "code",
      "source": [
        "#Create a function that replaces all the vowels in a string with a specified character.\n",
        "def replaceVowels(str, K):\n",
        "    vowels = 'AEIOUaeiou'\n",
        "    for i in vowels:\n",
        "      str = str.replace(i, K)\n",
        "    return str\n",
        "\n",
        "input = \"My name is Arya Kadam\"\n",
        "K = \"*\"\n",
        "print(\"Given String:\", input)\n",
        "print(\"Given Specified Character:\", K)\n",
        "print(\"After replacing vowels with the specified character:\", replaceVowels(input, K))\n",
        "      \n"
      ],
      "metadata": {
        "colab": {
          "base_uri": "https://localhost:8080/"
        },
        "id": "FP-5w64-1ymy",
        "outputId": "9e69c7fa-b5d1-42cf-bf20-d15b8f5370c0"
      },
      "execution_count": 3,
      "outputs": [
        {
          "output_type": "stream",
          "name": "stdout",
          "text": [
            "Given String: My name is Arya Kadam\n",
            "Given Specified Character: *\n",
            "After replacing vowels with the specified character: My n*m* *s *ry* K*d*m\n"
          ]
        }
      ]
    },
    {
      "cell_type": "code",
      "source": [
        "#Write a function that calculates the factorial of a number recursively.\n",
        "def factorial(n): \n",
        "    if (n==1 or n==0): \n",
        "        return 1\n",
        "    else:     \n",
        "        return (n * factorial(n - 1)) \n",
        "  \n",
        "num = 8\n",
        "print(\"number : \",num)\n",
        "print(\"Factorial : \",factorial(num))"
      ],
      "metadata": {
        "colab": {
          "base_uri": "https://localhost:8080/"
        },
        "id": "GLOcUXwA5vIx",
        "outputId": "908dedba-ec67-4804-a7ba-bd69b140e564"
      },
      "execution_count": null,
      "outputs": [
        {
          "output_type": "stream",
          "name": "stdout",
          "text": [
            "number :  8\n",
            "Factorial :  40320\n"
          ]
        }
      ]
    },
    {
      "cell_type": "code",
      "source": [
        "#Create a function that computes the hamming distance between two strings.\n",
        "def hammingDist(str1, str2):\n",
        "    i = 0\n",
        "    count = 0\n",
        " \n",
        "    while(i < len(str1)):\n",
        "        if(str1[i] != str2[i]):\n",
        "            count += 1\n",
        "        i += 1\n",
        "    return count\n",
        " \n",
        "str1 = \"strong\"\n",
        "str2 = \"strung\"\n",
        "\n",
        "print(hammingDist(str1, str2))"
      ],
      "metadata": {
        "colab": {
          "base_uri": "https://localhost:8080/"
        },
        "id": "TvK6noZP88Uq",
        "outputId": "5c45d96f-5bc5-46e4-a31d-0dad0d615fdd"
      },
      "execution_count": null,
      "outputs": [
        {
          "output_type": "stream",
          "name": "stdout",
          "text": [
            "1\n"
          ]
        }
      ]
    },
    {
      "cell_type": "markdown",
      "source": [
        "Section B"
      ],
      "metadata": {
        "id": "CPn1LVlNB5Kk"
      }
    },
    {
      "cell_type": "code",
      "source": [
        "#Create a function that takes a list of non-negative integers and strings and return a new list without the strings.\n",
        "def filter_list(l):  \n",
        "    output = []\n",
        "    for i in l:  \n",
        "        if type(i) != str:  \n",
        "            output.append(i)  \n",
        "    return output\n",
        "\n",
        "print(filter_list([15,26,'p','g',47,6,'g']))"
      ],
      "metadata": {
        "colab": {
          "base_uri": "https://localhost:8080/"
        },
        "id": "indezCBfBtcW",
        "outputId": "d0500c35-a054-46ea-fd2c-b58cfa4f7fe1"
      },
      "execution_count": 4,
      "outputs": [
        {
          "output_type": "stream",
          "name": "stdout",
          "text": [
            "[15, 26, 47, 6]\n"
          ]
        }
      ]
    },
    {
      "cell_type": "code",
      "source": [
        "#The \"Reverser\" takes a string as input and returns that string in reverse order, with the opposite case.\n",
        "def reverse(str):\n",
        "    str = str[::-1]\n",
        "    return str.swapcase()\n",
        "\n",
        "reverse('Hello World')"
      ],
      "metadata": {
        "colab": {
          "base_uri": "https://localhost:8080/",
          "height": 35
        },
        "id": "3NqPm6Fyu4UV",
        "outputId": "2ac941a2-8dcc-4cec-88d3-3c6510c83f03"
      },
      "execution_count": null,
      "outputs": [
        {
          "output_type": "execute_result",
          "data": {
            "text/plain": [
              "'DLROw OLLEh'"
            ],
            "application/vnd.google.colaboratory.intrinsic+json": {
              "type": "string"
            }
          },
          "metadata": {},
          "execution_count": 1
        }
      ]
    },
    {
      "cell_type": "code",
      "source": [
        "#with middle being everything in between the first and last element.\n",
        "lst = [1, 2, 3, 4, 5, 6]\n",
        "lst = first, middle, last\n",
        "\n",
        "print(first)\n",
        "print(middle)\n",
        "print(last)"
      ],
      "metadata": {
        "id": "zYdx1GA6wSPU"
      },
      "execution_count": null,
      "outputs": []
    },
    {
      "cell_type": "code",
      "source": [
        "#Write a function that moves all elements of one type to the end of the list.\n",
        "def move_end(array, toMove):\n",
        "    i = 0\n",
        "    s = len(array) - 1\n",
        "    while (i < s):\n",
        "        while (i < s and array[s] == toMove):\n",
        "            s-=1\n",
        "  \n",
        "        if (array[i] == toMove):\n",
        "            array[i], array[s] = array[s] , array[i]\n",
        "        i += 1\n",
        "    return array\n",
        "\n",
        "arr = ['a', 'b', 'b', 'a']\n",
        "k = 'a'\n",
        "ans = move_end(arr, k)\n",
        "for i in range(len(arr)):\n",
        "    print(ans[i] ,end= \" \")"
      ],
      "metadata": {
        "colab": {
          "base_uri": "https://localhost:8080/"
        },
        "id": "IbPaOec_xGo4",
        "outputId": "e9b52e73-2186-4dea-b35a-b36ff79db027"
      },
      "execution_count": 6,
      "outputs": [
        {
          "output_type": "stream",
          "name": "stdout",
          "text": [
            "b b a a "
          ]
        }
      ]
    },
    {
      "cell_type": "markdown",
      "source": [
        "Section C"
      ],
      "metadata": {
        "id": "jv5dqWsmIX5v"
      }
    },
    {
      "cell_type": "code",
      "source": [
        "#Create a function that takes a string and returns a string in which each character is repeated once.\n",
        "def double(str):\n",
        "    return ''.join([c+c for c in str])\n",
        "\n",
        "print(double('String'))"
      ],
      "metadata": {
        "colab": {
          "base_uri": "https://localhost:8080/"
        },
        "id": "x7PKaSfQ3MDH",
        "outputId": "a05361a8-d3a3-4d71-cb80-36265d85d3a0"
      },
      "execution_count": null,
      "outputs": [
        {
          "output_type": "stream",
          "name": "stdout",
          "text": [
            "SSttrriinngg\n"
          ]
        }
      ]
    },
    {
      "cell_type": "code",
      "source": [
        "#Create a function that reverses a boolean value and returns the string \"boolean expected\" if another variable type is given.\n",
        "def reverse(arg=None):\n",
        "    return not arg if type(arg) == bool else \"boolean expected\"\n",
        "\n",
        "print(reverse(True))\n",
        "print(reverse(False))\n",
        "print(reverse(0))\n",
        "print(reverse(None))"
      ],
      "metadata": {
        "id": "0tIsMruMIpQW",
        "colab": {
          "base_uri": "https://localhost:8080/"
        },
        "outputId": "a8973061-89d8-47ad-c106-9cf9701c9fb1"
      },
      "execution_count": null,
      "outputs": [
        {
          "output_type": "stream",
          "name": "stdout",
          "text": [
            "False\n",
            "True\n",
            "boolean expected\n",
            "boolean expected\n"
          ]
        }
      ]
    },
    {
      "cell_type": "code",
      "source": [
        "#Create a function that returns the thickness (in meters) of a piece of paper after folding it n number of times. The paper starts off with a thickness of 0.5mm.\n",
        "def layers(n):\n",
        "    thickness = 6.0\n",
        "    for _ in range(n):\n",
        "        thickness *= 2\n",
        "    return str(thickness / 1000)+'m' # for meters\n",
        "\n",
        "print(layers(1))\n",
        "print(layers(4))"
      ],
      "metadata": {
        "colab": {
          "base_uri": "https://localhost:8080/"
        },
        "id": "M6brjKriPcVj",
        "outputId": "2d2eee7d-2604-4d89-89c5-c493c8283c07"
      },
      "execution_count": 7,
      "outputs": [
        {
          "output_type": "stream",
          "name": "stdout",
          "text": [
            "0.012m\n",
            "0.096m\n"
          ]
        }
      ]
    },
    {
      "cell_type": "code",
      "source": [
        "#Create a function that takes a single string as argument and returns an ordered list containing the indices of all capital letters in the string\n",
        "def index_of_cap(word):\n",
        "    indices = []\n",
        "    for i in range(len(word)):\n",
        "        if word[i].isupper():\n",
        "             indices.append(i)\n",
        "    return indices\n",
        "\n",
        "print(index_of_cap('Arya'))\n",
        "print(index_of_cap('eDaBiT'))\n",
        "print(index_of_cap('eQuINoX')) "
      ],
      "metadata": {
        "colab": {
          "base_uri": "https://localhost:8080/"
        },
        "id": "O0udkpZWQe0D",
        "outputId": "f6b2c3a2-7748-4082-f64f-860d57e2e32f"
      },
      "execution_count": 8,
      "outputs": [
        {
          "output_type": "stream",
          "name": "stdout",
          "text": [
            "[0]\n",
            "[1, 3, 5]\n",
            "[1, 3, 4, 6]\n"
          ]
        }
      ]
    },
    {
      "cell_type": "code",
      "source": [
        "#Using list comprehensions, create a function that finds all even numbers from 1 to the given number.\n",
        "def find_even_no(n):\n",
        "    even =[x for x in range(2,n+1) if x % 2 == 0]\n",
        "    return even\n",
        "\n",
        "n = int(input('Enter a number : '))\n",
        "find_even_no(n)"
      ],
      "metadata": {
        "colab": {
          "base_uri": "https://localhost:8080/"
        },
        "id": "E4g-pGqzRmYN",
        "outputId": "0e9eeb3c-0e2f-4fdc-b50d-385c2d0a69ff"
      },
      "execution_count": null,
      "outputs": [
        {
          "name": "stdout",
          "output_type": "stream",
          "text": [
            "Enter a number : 12\n"
          ]
        },
        {
          "output_type": "execute_result",
          "data": {
            "text/plain": [
              "[2, 4, 6, 8, 10, 12]"
            ]
          },
          "metadata": {},
          "execution_count": 7
        }
      ]
    },
    {
      "cell_type": "markdown",
      "source": [
        "Section D"
      ],
      "metadata": {
        "id": "fWg_0UfJStnS"
      }
    },
    {
      "cell_type": "code",
      "source": [
        "#Create a function that takes a list of strings and integers, and filters out the list so that it returns a list of integers only\n",
        "def filter_list(lst):\n",
        "    intlst = []\n",
        "    for i in lst:\n",
        "        if type(i) == int:\n",
        "            intlst.append(i)\n",
        "    return intlst \n",
        "\n",
        "filter_list([1, 2, 3, 'a', 'b', 4])"
      ],
      "metadata": {
        "colab": {
          "base_uri": "https://localhost:8080/"
        },
        "id": "9CziXtmXSkiy",
        "outputId": "6f4114b2-3189-4437-e6d7-ffa035a6c32c"
      },
      "execution_count": null,
      "outputs": [
        {
          "output_type": "execute_result",
          "data": {
            "text/plain": [
              "[1, 2, 3, 4]"
            ]
          },
          "metadata": {},
          "execution_count": 9
        }
      ]
    },
    {
      "cell_type": "code",
      "source": [
        "#Given a list of numbers, create a function which returns the list but with each element's index in the list added to itself.\n",
        "def add_index(lst):\n",
        "    ind = 0\n",
        "    index = []\n",
        "    for i in lst:\n",
        "        index.append(lst.index(i,ind) + i)\n",
        "        ind+=1\n",
        "    return index\n",
        "\n",
        "add_index([1, 2, 3, 4, 5])"
      ],
      "metadata": {
        "id": "k7qas2aA3vvw",
        "colab": {
          "base_uri": "https://localhost:8080/"
        },
        "outputId": "59c43e1d-3237-4fae-fa03-221893ef651f"
      },
      "execution_count": null,
      "outputs": [
        {
          "output_type": "execute_result",
          "data": {
            "text/plain": [
              "[1, 3, 5, 7, 9]"
            ]
          },
          "metadata": {},
          "execution_count": 10
        }
      ]
    },
    {
      "cell_type": "code",
      "source": [
        "#Create a function that takes the height and radius of a cone as arguments and returns the volume of the cone rounded to the nearest hundredth\n",
        "import math\n",
        "pi = math.pi\n",
        "def cone_volume(r, h):\n",
        "    return round((1 / 3) * pi * r * r * h)\n",
        "\n",
        "radius = float(input(\"Enter value of radius= \"))\n",
        "height = float(input(\"Enter value of height= \"))1\n",
        "\n",
        "print( \"Volume Of Cone : \", cone_volume(radius, height) )"
      ],
      "metadata": {
        "id": "72qDZ1T1U9IL",
        "colab": {
          "base_uri": "https://localhost:8080/"
        },
        "outputId": "bd48c381-0817-4e16-9054-4d806a924532"
      },
      "execution_count": null,
      "outputs": [
        {
          "output_type": "stream",
          "name": "stdout",
          "text": [
            "Enter value of radius= 5\n",
            "Enter value of height= 12\n",
            "Volume Of Cone :  314\n"
          ]
        }
      ]
    },
    {
      "cell_type": "code",
      "source": [
        "#Write a function that gives the number of dots with its corresponding triangle number of the sequence.\n",
        "def triangle(n):\n",
        "    return n*(n+1)*0.5\n",
        "\n",
        "n = int(input('Enter the trinalge number :'))\n",
        "print(\"The {}th triangle has {} dots \".format(n,int(triangle(n))))\n",
        "\n",
        "triangle(1)"
      ],
      "metadata": {
        "id": "CyAeHwcCXnGI",
        "colab": {
          "base_uri": "https://localhost:8080/"
        },
        "outputId": "ddd3b81e-6eb9-460c-bb68-7f21bb59003f"
      },
      "execution_count": null,
      "outputs": [
        {
          "output_type": "stream",
          "name": "stdout",
          "text": [
            "Enter the trinalge number :1\n",
            "The 1th triangle has 1 dots \n"
          ]
        },
        {
          "output_type": "execute_result",
          "data": {
            "text/plain": [
              "1.0"
            ]
          },
          "metadata": {},
          "execution_count": 2
        }
      ]
    },
    {
      "cell_type": "code",
      "source": [
        "#Create a function that takes a list of numbers between 1 and 10 (excluding one number) and returns the missing number.\n",
        "def missing_num(lst):\n",
        "    total = sum([x for x in range(11)])\n",
        "    sum_of_list = sum(lst)\n",
        "    return total - sum_of_list\n",
        "\n",
        "print(missing_num([1, 2, 3, 4, 6, 7, 8, 9, 10]))"
      ],
      "metadata": {
        "id": "WD98K57HbmdL",
        "colab": {
          "base_uri": "https://localhost:8080/"
        },
        "outputId": "e60e0ea8-b2f3-4704-917e-c2aaf8b9d4c7"
      },
      "execution_count": null,
      "outputs": [
        {
          "output_type": "stream",
          "name": "stdout",
          "text": [
            "5\n"
          ]
        }
      ]
    }
  ]
}