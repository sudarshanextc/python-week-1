{
  "cells": [
    {
      "cell_type": "markdown",
      "metadata": {
        "colab_type": "text",
        "id": "view-in-github"
      },
      "source": [
        "<a href=\"https://colab.research.google.com/github/Aryakadam/Python-Programming-II/blob/main/Assignment1.ipynb\" target=\"_parent\"><img src=\"https://colab.research.google.com/assets/colab-badge.svg\" alt=\"Open In Colab\"/></a>"
      ]
    },
    {
      "cell_type": "code",
      "execution_count": null,
      "metadata": {
        "colab": {
          "base_uri": "https://localhost:8080/"
        },
        "id": "edIk0K-la-CG",
        "outputId": "b01bca52-58b5-46b0-fad7-a4f51291a7be"
      },
      "outputs": [
        {
          "name": "stdout",
          "output_type": "stream",
          "text": [
            "Hallo World\n"
          ]
        }
      ],
      "source": [
        "print(\"Hallo World\")"
      ]
    },
    {
      "cell_type": "code",
      "execution_count": null,
      "metadata": {
        "colab": {
          "base_uri": "https://localhost:8080/"
        },
        "id": "hLLW-_gPbf7I",
        "outputId": "32e574dc-957f-4e4c-fd71-8ff1ae1cb686"
      },
      "outputs": [
        {
          "name": "stdout",
          "output_type": "stream",
          "text": [
            "30\n"
          ]
        }
      ],
      "source": [
        "a=10\n",
        "b=20\n",
        "c=a+b\n",
        "print(c)"
      ]
    },
    {
      "cell_type": "code",
      "execution_count": null,
      "metadata": {
        "colab": {
          "base_uri": "https://localhost:8080/"
        },
        "id": "pddlmYAnbwQF",
        "outputId": "8dcbe144-5f53-4947-d722-22bc731ee6e1"
      },
      "outputs": [
        {
          "name": "stdout",
          "output_type": "stream",
          "text": [
            "0.9\n"
          ]
        }
      ],
      "source": [
        "a=45\n",
        "b=50\n",
        "c=a/b\n",
        "print(c)"
      ]
    },
    {
      "cell_type": "code",
      "execution_count": null,
      "metadata": {
        "colab": {
          "base_uri": "https://localhost:8080/"
        },
        "id": "PNP_PobBb5_t",
        "outputId": "d4891eb2-ed7d-4865-e909-857c8a0a0ed0"
      },
      "outputs": [
        {
          "name": "stdout",
          "output_type": "stream",
          "text": [
            "1000.0\n"
          ]
        }
      ],
      "source": [
        "base=40\n",
        "height=50\n",
        "Area=0.5*base*height\n",
        "print(Area)"
      ]
    },
    {
      "cell_type": "code",
      "execution_count": null,
      "metadata": {
        "colab": {
          "base_uri": "https://localhost:8080/"
        },
        "id": "smS7XUb1cgaP",
        "outputId": "fba75679-37f1-47c3-8d80-5f2bc3522be5"
      },
      "outputs": [
        {
          "name": "stdout",
          "output_type": "stream",
          "text": [
            "The value of x after swapping: 10\n",
            "The value of y after swapping: 5\n"
          ]
        }
      ],
      "source": [
        "x = 5\n",
        "y = 10\n",
        "temp = x\n",
        "x = y\n",
        "y = temp\n",
        "\n",
        "print('The value of x after swapping: {}'.format(x))\n",
        "print('The value of y after swapping: {}'.format(y))\n"
      ]
    },
    {
      "cell_type": "code",
      "execution_count": null,
      "metadata": {
        "colab": {
          "base_uri": "https://localhost:8080/"
        },
        "id": "vQzVJxeKqE3B",
        "outputId": "d3568360-a50a-4b46-9049-c9cbdf8e7d96"
      },
      "outputs": [
        {
          "name": "stdout",
          "output_type": "stream",
          "text": [
            "6\n"
          ]
        }
      ],
      "source": [
        "# Program to generate a random number between 0 and 9\n",
        "import random\n",
        "\n",
        "print(random.randint(0,9))"
      ]
    },
    {
      "cell_type": "code",
      "execution_count": null,
      "metadata": {
        "colab": {
          "base_uri": "https://localhost:8080/"
        },
        "id": "AugrvfsIr5MM",
        "outputId": "f1069e5c-585a-4b55-a2fa-64604aa4df58"
      },
      "outputs": [
        {
          "name": "stdout",
          "output_type": "stream",
          "text": [
            "enter km value:500\n",
            "500 km = 500000 meter\n"
          ]
        }
      ],
      "source": [
        "KM = int(input(\"enter km value:\"))\n",
        "meter = KM*1000\n",
        "print(KM, \"km =\",meter,\"meter\")"
      ]
    },
    {
      "cell_type": "code",
      "execution_count": null,
      "metadata": {
        "colab": {
          "base_uri": "https://localhost:8080/"
        },
        "id": "2C_egrzPss4K",
        "outputId": "e7d0ad7a-2b1b-4f21-8b84-efe670fb30a9"
      },
      "outputs": [
        {
          "name": "stdout",
          "output_type": "stream",
          "text": [
            "999.00 Celsius is equivalent to: 1830.20 Fahrenheit\n"
          ]
        }
      ],
      "source": [
        "celsius = 999\n",
        "fahrenheit = (celsius * 1.8) + 32\n",
        "print('%.2f Celsius is equivalent to: %.2f Fahrenheit'%(celsius, fahrenheit))\n"
      ]
    },
    {
      "cell_type": "code",
      "execution_count": null,
      "metadata": {
        "colab": {
          "base_uri": "https://localhost:8080/"
        },
        "id": "V4uBcF4ntC6a",
        "outputId": "0c3585d1-da10-4286-ec9b-918ce3d4fd14"
      },
      "outputs": [
        {
          "name": "stdout",
          "output_type": "stream",
          "text": [
            "    August 2022\n",
            "Mo Tu We Th Fr Sa Su\n",
            " 1  2  3  4  5  6  7\n",
            " 8  9 10 11 12 13 14\n",
            "15 16 17 18 19 20 21\n",
            "22 23 24 25 26 27 28\n",
            "29 30 31\n",
            "\n"
          ]
        }
      ],
      "source": [
        "import calendar\n",
        "\n",
        "yy = 2022\n",
        "mm = 8\n",
        "\n",
        "print(calendar.month(yy, mm))\n"
      ]
    },
    {
      "cell_type": "code",
      "execution_count": null,
      "metadata": {
        "colab": {
          "base_uri": "https://localhost:8080/"
        },
        "id": "hBiT7Ku-toR3",
        "outputId": "19b44bbf-1199-4f87-c4c1-7db23b424241"
      },
      "outputs": [
        {
          "name": "stdout",
          "output_type": "stream",
          "text": [
            " real and different roots \n",
            "2.0\n",
            "-12.0\n"
          ]
        }
      ],
      "source": [
        "# Python program to find roots of quadratic equation\n",
        "import math\n",
        "\n",
        "\n",
        "# function for finding roots\n",
        "def equationroots( a, b, c):\n",
        "\n",
        "\t# calculating discriminant using formula\n",
        "\tdis = b * b - 4 * a * c\n",
        "\tsqrt_val = math.sqrt(abs(dis))\n",
        "\t\n",
        "\t# checking condition for discriminant\n",
        "\tif dis > 0:\n",
        "\t\tprint(\" real and different roots \")\n",
        "\t\tprint((-b + sqrt_val)/(2 * a))\n",
        "\t\tprint((-b - sqrt_val)/(2 * a))\n",
        "\t\n",
        "\telif dis == 0:\n",
        "\t\tprint(\" real and same roots\")\n",
        "\t\tprint(-b / (2 * a))\n",
        "\t\n",
        "\t# when discriminant is less than 0\n",
        "\telse:\n",
        "\t\tprint(\"Complex Roots\")\n",
        "\t\tprint(- b / (2 * a), \" + i\", sqrt_val)\n",
        "\t\tprint(- b / (2 * a), \" - i\", sqrt_val)\n",
        "\n",
        "# Driver Program\n",
        "a = 1\n",
        "b = 10\n",
        "c = -24\n",
        "\n",
        "# If a is 0, then incorrect equation\n",
        "if a == 0:\n",
        "\t\tprint(\"Input correct quadratic equation\")\n",
        "\n",
        "else:\n",
        "\tequationroots(a, b, c)"
      ]
    },
    {
      "cell_type": "code",
      "execution_count": null,
      "metadata": {
        "colab": {
          "base_uri": "https://localhost:8080/"
        },
        "id": "t9EJZ_hAtq6u",
        "outputId": "b03b785c-198b-45b6-c8ae-dc323e169641"
      },
      "outputs": [
        {
          "name": "stdout",
          "output_type": "stream",
          "text": [
            "Before swapping: \n",
            "Value of x :  8  and y :  1\n",
            "After swapping: \n",
            "Value of x :  1  and y :  8\n"
          ]
        }
      ],
      "source": [
        "x = 8\n",
        "y = 1\n",
        "\n",
        "print (\"Before swapping: \")\n",
        "print(\"Value of x : \", x, \" and y : \", y)\n",
        "\n",
        "\n",
        "x, y = y, x\n",
        "\n",
        "print (\"After swapping: \")\n",
        "print(\"Value of x : \", x, \" and y : \", y)\n"
      ]
    },
    {
      "cell_type": "code",
      "execution_count": null,
      "metadata": {
        "colab": {
          "base_uri": "https://localhost:8080/"
        },
        "id": "PduyUw5Vt1aF",
        "outputId": "96c49746-822c-4874-c379-5e32ce558fea"
      },
      "outputs": [
        {
          "name": "stdout",
          "output_type": "stream",
          "text": [
            "Positive\n",
            "Equal to zero\n",
            "Negative\n"
          ]
        }
      ],
      "source": [
        "def check(n):\n",
        "\tif n > 0:\n",
        "\t\tprint(\"Positive\")\n",
        "\telif n < 0:\n",
        "\t\tprint(\"Negative\")\n",
        "\telse:\n",
        "\t\tprint(\"Equal to zero\")\n",
        "check(5)\n",
        "check(0)\n",
        "check(-5)\n"
      ]
    },
    {
      "cell_type": "code",
      "execution_count": null,
      "metadata": {
        "colab": {
          "base_uri": "https://localhost:8080/"
        },
        "id": "OWmIinbsuVRe",
        "outputId": "1730d6dc-49c7-4820-8b6b-54869f1692a1"
      },
      "outputs": [
        {
          "name": "stdout",
          "output_type": "stream",
          "text": [
            "3 num is odd\n"
          ]
        }
      ],
      "source": [
        "def evenOdd(n):\t\n",
        "\tif(n==0):\n",
        "\t\treturn True\n",
        "\telif(n==1):\n",
        "\t\treturn False\n",
        "\telse:\n",
        "\t\treturn evenOdd(n-2)\n",
        "num=3\n",
        "if(evenOdd(num)):\n",
        "\tprint(num,\"num is even\")\n",
        "else:\n",
        "\tprint(num,\"num is odd\")\n"
      ]
    },
    {
      "cell_type": "code",
      "execution_count": null,
      "metadata": {
        "colab": {
          "base_uri": "https://localhost:8080/"
        },
        "id": "Duv16szHuktw",
        "outputId": "c1c70015-3d6d-4c70-abb9-a004b8834c63"
      },
      "outputs": [
        {
          "name": "stdout",
          "output_type": "stream",
          "text": [
            "Leap Year\n"
          ]
        }
      ],
      "source": [
        "def checkYear(year):\n",
        "\tif (year % 4) == 0:\n",
        "\t\tif (year % 100) == 0:\n",
        "\t\t\tif (year % 400) == 0:\n",
        "\t\t\t\treturn True\n",
        "\t\t\telse:\n",
        "\t\t\t\treturn False\n",
        "\t\telse:\n",
        "\t\t\treturn True\n",
        "\telse:\n",
        "\t\treturn False\n",
        "year = 2000\n",
        "if(checkYear(year)):\n",
        "\tprint(\"Leap Year\")\n",
        "else:\n",
        "\tprint(\"Not a Leap Year\")"
      ]
    },
    {
      "cell_type": "code",
      "execution_count": null,
      "metadata": {
        "colab": {
          "base_uri": "https://localhost:8080/"
        },
        "id": "F4SP8OUfu1Ue",
        "outputId": "e1f18dc0-71f4-4884-fd4e-5fcd13d18b00"
      },
      "outputs": [
        {
          "name": "stdout",
          "output_type": "stream",
          "text": [
            "11 is a prime number\n"
          ]
        }
      ],
      "source": [
        "num = 11\n",
        "if num > 1:\n",
        "\tfor i in range(2, int(num/2)+1):\n",
        "\t\tif (num % i) == 0:\n",
        "\t\t\tprint(num, \"is not a prime number\")\n",
        "\t\t\tbreak\n",
        "\telse:\n",
        "\t\tprint(num, \"is a prime number\")\n",
        "\n",
        "else:\n",
        "\tprint(num, \"is not a prime number\")"
      ]
    },
    {
      "cell_type": "code",
      "execution_count": null,
      "metadata": {
        "colab": {
          "base_uri": "https://localhost:8080/"
        },
        "id": "8TUM_8VxvDg8",
        "outputId": "9c6a7a4d-18d8-4a30-9f8e-1d33086938de"
      },
      "outputs": [
        {
          "name": "stdout",
          "output_type": "stream",
          "text": [
            "The prime numbers in this range are:  [2, 3, 5]\n"
          ]
        }
      ],
      "source": [
        "def prime(x, y):\n",
        "\tprime_list = []\n",
        "\tfor i in range(x, y):\n",
        "\t\tif i == 0 or i == 1:\n",
        "\t\t\tcontinue\n",
        "\t\telse:\n",
        "\t\t\tfor j in range(2, int(i/2)+1):\n",
        "\t\t\t\tif i % j == 0:\n",
        "\t\t\t\t\tbreak\n",
        "\t\t\telse:\n",
        "\t\t\t\tprime_list.append(i)\n",
        "\treturn prime_list\n",
        "starting_range = 2\n",
        "ending_range = 7\n",
        "lst = prime(starting_range, ending_range)\n",
        "if len(lst) == 0:\n",
        "\tprint(\"There are no prime numbers in this range\")\n",
        "else:\n",
        "\tprint(\"The prime numbers in this range are: \", lst)\n"
      ]
    },
    {
      "cell_type": "code",
      "execution_count": null,
      "metadata": {
        "colab": {
          "base_uri": "https://localhost:8080/"
        },
        "id": "YskbL9lfvOBI",
        "outputId": "eab4ff20-2ba0-4293-c16e-1456c8750fa1"
      },
      "outputs": [
        {
          "name": "stdout",
          "output_type": "stream",
          "text": [
            "Factorial of 5 is 120\n"
          ]
        }
      ],
      "source": [
        "def factorial(n):\n",
        "\treturn 1 if (n==1 or n==0) else n * factorial(n - 1);\n",
        "num = 5;\n",
        "print(\"Factorial of\",num,\"is\",\n",
        "factorial(num))"
      ]
    },
    {
      "cell_type": "code",
      "execution_count": null,
      "metadata": {
        "colab": {
          "base_uri": "https://localhost:8080/"
        },
        "id": "VBW3mWs9veM5",
        "outputId": "f9924dda-2ba4-4e07-e84d-45ac56b1e438"
      },
      "outputs": [
        {
          "name": "stdout",
          "output_type": "stream",
          "text": [
            "12 x 1 = 12\n",
            "12 x 2 = 24\n",
            "12 x 3 = 36\n",
            "12 x 4 = 48\n",
            "12 x 5 = 60\n",
            "12 x 6 = 72\n",
            "12 x 7 = 84\n",
            "12 x 8 = 96\n",
            "12 x 9 = 108\n",
            "12 x 10 = 120\n"
          ]
        }
      ],
      "source": [
        "num = 12\n",
        "for i in range(1, 11):\n",
        "   print(num, 'x', i, '=', num*i)\n"
      ]
    },
    {
      "cell_type": "code",
      "execution_count": null,
      "metadata": {
        "colab": {
          "base_uri": "https://localhost:8080/"
        },
        "id": "J338ma64vxDg",
        "outputId": "d4e567b8-52f7-4d79-ad16-96643211363f"
      },
      "outputs": [
        {
          "name": "stdout",
          "output_type": "stream",
          "text": [
            "34\n"
          ]
        }
      ],
      "source": [
        "def Fibonacci(n):\n",
        "\tif n < 0:\n",
        "\t\tprint(\"Incorrect input\")\n",
        "\telif n == 0:\n",
        "\t\treturn 0\n",
        "\telif n == 1 or n == 2:\n",
        "\t\treturn 1\n",
        "\n",
        "\telse:\n",
        "\t\treturn Fibonacci(n-1) + Fibonacci(n-2)\n",
        "print(Fibonacci(9))"
      ]
    },
    {
      "cell_type": "code",
      "execution_count": null,
      "metadata": {
        "colab": {
          "base_uri": "https://localhost:8080/"
        },
        "id": "DddlM0VXwF--",
        "outputId": "679c2119-a72a-4798-9f45-867602ba8c2f"
      },
      "outputs": [
        {
          "name": "stdout",
          "output_type": "stream",
          "text": [
            "True\n",
            "False\n"
          ]
        }
      ],
      "source": [
        "def power(x, y):\n",
        "\t\n",
        "\tif y == 0:\n",
        "\t\treturn 1\n",
        "\tif y % 2 == 0:\n",
        "\t\treturn power(x, y // 2) * power(x, y // 2)\n",
        "\t\t\n",
        "\treturn x * power(x, y // 2) * power(x, y // 2)\n",
        "\n",
        "def order(x):\n",
        "\tn = 0\n",
        "\twhile (x != 0):\n",
        "\t\tn = n + 1\n",
        "\t\tx = x // 10\n",
        "\t\t\n",
        "\treturn n\n",
        "def isArmstrong(x):\n",
        "\t\n",
        "\tn = order(x)\n",
        "\ttemp = x\n",
        "\tsum1 = 0\n",
        "\t\n",
        "\twhile (temp != 0):\n",
        "\t\tr = temp % 10\n",
        "\t\tsum1 = sum1 + power(r, n)\n",
        "\t\ttemp = temp // 10\n",
        "\treturn (sum1 == x)\n",
        "x = 153\n",
        "print(isArmstrong(x))\n",
        "\n",
        "x = 1253\n",
        "print(isArmstrong(x))\n"
      ]
    },
    {
      "cell_type": "code",
      "execution_count": null,
      "metadata": {
        "colab": {
          "base_uri": "https://localhost:8080/"
        },
        "id": "YnnUru0ZwX1w",
        "outputId": "ca7b0200-41c8-4216-eb3f-a3a4eeef2892"
      },
      "outputs": [
        {
          "name": "stdout",
          "output_type": "stream",
          "text": [
            "1253\n"
          ]
        }
      ],
      "source": [
        "def findSum(n) :\n",
        "\tsum = 0\n",
        "\tx = 1\n",
        "\twhile x <=n :\n",
        "\t\tsum = sum + x\n",
        "\t\tx = x + 1\n",
        "\treturn sum\n",
        "n = 5\n",
        "print(x)\n",
        "\n"
      ]
    },
    {
      "cell_type": "code",
      "execution_count": null,
      "metadata": {
        "colab": {
          "base_uri": "https://localhost:8080/"
        },
        "id": "FkeDos1xxEC0",
        "outputId": "75188f23-b248-4930-f880-393ae98238a3"
      },
      "outputs": [
        {
          "name": "stdout",
          "output_type": "stream",
          "text": [
            "Sum of the array is  34\n"
          ]
        }
      ],
      "source": [
        "def _sum(arr):\n",
        "\n",
        "\tsum = 0\n",
        "\n",
        "\tfor i in arr:\n",
        "\t\tsum = sum + i\n",
        "\n",
        "\treturn(sum)\n",
        "\n",
        "\n",
        "arr = []\n",
        "\n",
        "arr = [12, 3, 4, 15]\n",
        "\n",
        "\n",
        "n = len(arr)\n",
        "\n",
        "ans = _sum(arr)\n",
        "\n",
        "print('Sum of the array is ', ans)\n"
      ]
    },
    {
      "cell_type": "code",
      "execution_count": null,
      "metadata": {
        "colab": {
          "base_uri": "https://localhost:8080/"
        },
        "id": "4oSds-mb3B-h",
        "outputId": "0d7de1fa-7a32-4d3f-fcf3-cd6577b7ec65"
      },
      "outputs": [
        {
          "name": "stdout",
          "output_type": "stream",
          "text": [
            "Largest in given array  9808\n"
          ]
        }
      ],
      "source": [
        "def largest(arr, n):\n",
        "\n",
        "\n",
        "\tmax = arr[0]\n",
        "\n",
        "\tfor i in range(1, n):\n",
        "\t\tif arr[i] > max:\n",
        "\t\t\tmax = arr[i]\n",
        "\treturn max\n",
        "\n",
        "\n",
        "arr = [10, 324, 45, 90, 9808]\n",
        "n = len(arr)\n",
        "Ans = largest(arr, n)\n",
        "print(\"Largest in given array \", Ans)"
      ]
    },
    {
      "cell_type": "code",
      "execution_count": null,
      "metadata": {
        "colab": {
          "base_uri": "https://localhost:8080/"
        },
        "id": "9xiYskrO3Krl",
        "outputId": "511e968d-6f0e-4386-d0f9-d559405006e8"
      },
      "outputs": [
        {
          "name": "stdout",
          "output_type": "stream",
          "text": [
            "Array after left rotation is:  [3, 4, 5, 6, 7, 1, 2]\n"
          ]
        }
      ],
      "source": [
        "def rotateArray(arr, n, d):\n",
        "\ttemp = []\n",
        "\ti = 0\n",
        "\twhile (i < d):\n",
        "\t\ttemp.append(arr[i])\n",
        "\t\ti = i + 1\n",
        "\ti = 0\n",
        "\twhile (d < n):\n",
        "\t\tarr[i] = arr[d]\n",
        "\t\ti = i + 1\n",
        "\t\td = d + 1\n",
        "\tarr[:] = arr[: i] + temp\n",
        "\treturn arr\n",
        "\n",
        "arr = [1, 2, 3, 4, 5, 6, 7]\n",
        "print(\"Array after left rotation is: \", end=' ')\n",
        "print(rotateArray(arr, len(arr), 2))"
      ]
    },
    {
      "cell_type": "code",
      "execution_count": null,
      "metadata": {
        "colab": {
          "base_uri": "https://localhost:8080/"
        },
        "id": "MfnXTPXs3XiF",
        "outputId": "3bb12a71-e063-4022-dca1-5df5c144679b"
      },
      "outputs": [
        {
          "name": "stdout",
          "output_type": "stream",
          "text": [
            "5 6 52 36 12 10 "
          ]
        }
      ],
      "source": [
        "def splitArr(arr, n, k):\n",
        "\tfor i in range(0, k):\n",
        "\t\tx = arr[0]\n",
        "\t\tfor j in range(0, n-1):\n",
        "\t\t\tarr[j] = arr[j + 1]\n",
        "\t\t\n",
        "\t\tarr[n-1] = x\n",
        "\n",
        "arr = [12, 10, 5, 6, 52, 36]\n",
        "n = len(arr)\n",
        "position = 2\n",
        "\n",
        "splitArr(arr, n, position)\n",
        "\n",
        "for i in range(0, n):\n",
        "\tprint(arr[i], end = ' ')"
      ]
    },
    {
      "cell_type": "code",
      "execution_count": null,
      "metadata": {
        "colab": {
          "base_uri": "https://localhost:8080/"
        },
        "id": "17guvoUw3pmL",
        "outputId": "dc78a5fd-0f20-4517-a9da-66fc90b61fa1"
      },
      "outputs": [
        {
          "name": "stdout",
          "output_type": "stream",
          "text": [
            "True\n"
          ]
        }
      ],
      "source": [
        "def isMonotonic(A):\n",
        "\n",
        "\treturn (all(A[i] <= A[i + 1] for i in range(len(A) - 1)) or\n",
        "\t\t\tall(A[i] >= A[i + 1] for i in range(len(A) - 1)))\n",
        "\n",
        "A = [6, 5, 4, 4]\n",
        "\n",
        "print(isMonotonic(A))"
      ]
    },
    {
      "cell_type": "code",
      "execution_count": null,
      "metadata": {
        "colab": {
          "base_uri": "https://localhost:8080/"
        },
        "id": "oqwsZecA302J",
        "outputId": "22ad1907-1a0c-48dc-ba6d-6999590611c5"
      },
      "outputs": [
        {
          "name": "stdout",
          "output_type": "stream",
          "text": [
            "Sum of all elements in given list:  74\n"
          ]
        }
      ],
      "source": [
        "total = 0\n",
        "\n",
        "list1 = [11, 5, 17, 18, 23]\n",
        "\n",
        "for ele in range(0, len(list1)):\n",
        "\ttotal = total + list1[ele]\n",
        "\n",
        "print(\"Sum of all elements in given list: \", total)"
      ]
    },
    {
      "cell_type": "code",
      "execution_count": null,
      "metadata": {
        "colab": {
          "base_uri": "https://localhost:8080/"
        },
        "id": "HUhwZOF_4Fzw",
        "outputId": "edf44f84-f0e6-4cd6-ef65-54e43d3cece0"
      },
      "outputs": [
        {
          "name": "stdout",
          "output_type": "stream",
          "text": [
            "6\n",
            "24\n"
          ]
        }
      ],
      "source": [
        "def multiplyList(myList) :\n",
        "\t\n",
        "\tresult = 1\n",
        "\tfor x in myList:\n",
        "\t\tresult = result * x\n",
        "\treturn result\n",
        "\t\n",
        "list1 = [1, 2, 3]\n",
        "list2 = [3, 2, 4]\n",
        "print(multiplyList(list1))\n",
        "print(multiplyList(list2))\n"
      ]
    },
    {
      "cell_type": "code",
      "execution_count": null,
      "metadata": {
        "colab": {
          "base_uri": "https://localhost:8080/"
        },
        "id": "7XruQW5u4PCK",
        "outputId": "bc1dee5a-0ea0-46e2-c246-4dcca65887c6"
      },
      "outputs": [
        {
          "name": "stdout",
          "output_type": "stream",
          "text": [
            "Smallest element is: 4\n"
          ]
        }
      ],
      "source": [
        "list1 = [10, 20, 4, 45, 99]\n",
        "\n",
        "list1.sort()\n",
        "\n",
        "print(\"Smallest element is:\", *list1[:1])\n"
      ]
    },
    {
      "cell_type": "code",
      "execution_count": null,
      "metadata": {
        "colab": {
          "base_uri": "https://localhost:8080/"
        },
        "id": "GHEgYSt14ZEe",
        "outputId": "0d437360-4826-48db-eefa-2fb605db1873"
      },
      "outputs": [
        {
          "name": "stdout",
          "output_type": "stream",
          "text": [
            "Largest element is: 99\n"
          ]
        }
      ],
      "source": [
        "list1 = [10, 20, 4, 45, 99]\n",
        "\n",
        "list1.sort()\n",
        "\n",
        "print(\"Largest element is:\", list1[-1])"
      ]
    },
    {
      "cell_type": "code",
      "execution_count": null,
      "metadata": {
        "colab": {
          "base_uri": "https://localhost:8080/"
        },
        "id": "s1zlnJc64lYE",
        "outputId": "bde679af-49ae-450c-80f8-1fd5684fb47b"
      },
      "outputs": [
        {
          "name": "stdout",
          "output_type": "stream",
          "text": [
            "Second highest number is :  45\n"
          ]
        }
      ],
      "source": [
        "list1 = [10, 20, 4, 45, 99]\n",
        "mx = max(list1[0], list1[1])\n",
        "secondmax = min(list1[0], list1[1])\n",
        "n = len(list1)\n",
        "for i in range(2,n):\n",
        "\tif list1[i] > mx:\n",
        "\t\tsecondmax = mx\n",
        "\t\tmx = list1[i]\n",
        "\telif list1[i] > secondmax and \\\n",
        "\t\tmx != list1[i]:\n",
        "\t\tsecondmax = list1[i]\n",
        "\telif mx == secondmax and \\\n",
        "\t\tsecondmax != list1[i]:\n",
        "\t\tsecondmax = list1[i]\n",
        "print(\"Second highest number is : \",\\\n",
        "\tstr(secondmax))"
      ]
    },
    {
      "cell_type": "code",
      "execution_count": null,
      "metadata": {
        "colab": {
          "base_uri": "https://localhost:8080/"
        },
        "id": "4cBYiRGJ4wVP",
        "outputId": "dc4ee780-9db0-49dd-d553-3bafbcdd474b"
      },
      "outputs": [
        {
          "name": "stdout",
          "output_type": "stream",
          "text": [
            "[85, 41]\n"
          ]
        }
      ],
      "source": [
        "def Nmaxelements(list1, N):\n",
        "\tfinal_list = []\n",
        "\tfor i in range(0, N):\n",
        "\t\tmax1 = 0\n",
        "\t\tfor j in range(len(list1)):\t\n",
        "\t\t\tif list1[j] > max1:\n",
        "\t\t\t\tmax1 = list1[j];\n",
        "\t\tlist1.remove(max1);\n",
        "\t\tfinal_list.append(max1)\n",
        "\tprint(final_list)\n",
        "list1 = [2, 6, 41, 85, 0, 3, 7, 6, 10]\n",
        "N = 2\n",
        "Nmaxelements(list1, N)"
      ]
    },
    {
      "cell_type": "code",
      "execution_count": null,
      "metadata": {
        "colab": {
          "base_uri": "https://localhost:8080/"
        },
        "id": "60K2Lvji5Afz",
        "outputId": "12b2a007-d7d1-4158-ff00-ed441265ee01"
      },
      "outputs": [
        {
          "name": "stdout",
          "output_type": "stream",
          "text": [
            "10 4 66 "
          ]
        }
      ],
      "source": [
        "list1 = [10, 21, 4, 45, 66, 93]\n",
        "for num in list1:\n",
        "\tif num % 2 == 0:\n",
        "\t\tprint(num, end=\" \")"
      ]
    },
    {
      "cell_type": "code",
      "execution_count": null,
      "metadata": {
        "colab": {
          "base_uri": "https://localhost:8080/"
        },
        "id": "fOrJH0b35OfJ",
        "outputId": "5e793784-82f5-4a95-9d35-cb535d407fde"
      },
      "outputs": [
        {
          "name": "stdout",
          "output_type": "stream",
          "text": [
            "21 45 93 "
          ]
        }
      ],
      "source": [
        "list1 = [10, 21, 4, 45, 66, 93]\n",
        "for num in list1:\n",
        "\tif num % 2 != 0:\n",
        "\t print(num, end = \" \")"
      ]
    },
    {
      "cell_type": "code",
      "execution_count": null,
      "metadata": {
        "colab": {
          "base_uri": "https://localhost:8080/"
        },
        "id": "T6bAzJ7k5df0",
        "outputId": "9bb3396a-b640-47c9-8e27-8121d17ed354"
      },
      "outputs": [
        {
          "name": "stdout",
          "output_type": "stream",
          "text": [
            "The original list is : [5, 6, [], 3, [], [], 9]\n",
            "List after empty list removal : [5, 6, 3, 9]\n"
          ]
        }
      ],
      "source": [
        "test_list = [5, 6, [], 3, [], [], 9]\n",
        "\n",
        "print(\"The original list is : \" + str(test_list))\n",
        "res = [ele for ele in test_list if ele != []]\n",
        "print(\"List after empty list removal : \" + str(res))"
      ]
    },
    {
      "cell_type": "code",
      "execution_count": null,
      "metadata": {
        "colab": {
          "base_uri": "https://localhost:8080/"
        },
        "id": "bTvcahpe5pSF",
        "outputId": "9af054ea-7650-431d-ff16-a7de73fc9b9e"
      },
      "outputs": [
        {
          "name": "stdout",
          "output_type": "stream",
          "text": [
            "Original List: [4, 8, 2, 10, 15, 18]\n",
            "After Cloning: [4, 8, 2, 10, 15, 18]\n"
          ]
        }
      ],
      "source": [
        "def Cloning(li1):\n",
        "\tli_copy = li1[:]\n",
        "\treturn li_copy\n",
        "li1 = [4, 8, 2, 10, 15, 18]\n",
        "li2 = Cloning(li1)\n",
        "print(\"Original List:\", li1)\n",
        "print(\"After Cloning:\", li2)"
      ]
    },
    {
      "cell_type": "code",
      "execution_count": null,
      "metadata": {
        "colab": {
          "base_uri": "https://localhost:8080/"
        },
        "id": "BpLBay625xuG",
        "outputId": "2d913588-08c6-4589-c977-4b7512996dca"
      },
      "outputs": [
        {
          "name": "stdout",
          "output_type": "stream",
          "text": [
            "8 has occurred 5 times\n"
          ]
        }
      ],
      "source": [
        "def countX(lst, x):\n",
        "\tcount = 0\n",
        "\tfor ele in lst:\n",
        "\t\tif (ele == x):\n",
        "\t\t\tcount = count + 1\n",
        "\treturn count\n",
        "lst = [8, 6, 8, 10, 8, 20, 10, 8, 8]\n",
        "x = 8\n",
        "print('{} has occurred {} times'.format(x, countX(lst, x)))"
      ]
    }
  ],
  "metadata": {
    "colab": {
      "authorship_tag": "ABX9TyPmBffJwKoqnmEKjguZF6Ct",
      "collapsed_sections": [],
      "include_colab_link": true,
      "name": "Assignment1.ipynb",
      "provenance": []
    },
    "kernelspec": {
      "display_name": "Python 3.10.5 64-bit",
      "language": "python",
      "name": "python3"
    },
    "language_info": {
      "name": "python",
      "version": "3.10.5"
    },
    "vscode": {
      "interpreter": {
        "hash": "ad22912dd01b4110c427b8c8d818aa72785eb49831a1d3a50e06705aa7296056"
      }
    }
  },
  "nbformat": 4,
  "nbformat_minor": 0
}
